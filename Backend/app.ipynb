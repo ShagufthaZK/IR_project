{
  "cells": [
    {
      "cell_type": "markdown",
      "metadata": {
        "colab_type": "text",
        "id": "view-in-github"
      },
      "source": [
        "<a href=\"https://colab.research.google.com/github/ShagufthaZK/IR_project/blob/main/app.ipynb\" target=\"_parent\"><img src=\"https://colab.research.google.com/assets/colab-badge.svg\" alt=\"Open In Colab\"/></a>"
      ]
    },
    {
      "cell_type": "code",
      "execution_count": null,
      "metadata": {
        "id": "roosPqyS-t3m"
      },
      "outputs": [],
      "source": [
        "!pip install pyngrok\n",
        "!pip install Flask-WTF\n",
        "!pip install Flask-Bootstrap4"
      ]
    },
    {
      "cell_type": "code",
      "execution_count": null,
      "metadata": {
        "id": "3Sr8VVyCs1av"
      },
      "outputs": [],
      "source": [
        "!pip install tfkit==0.7.21 nlp2go==0.4.12\n",
        "!pip install git+https://github.com/roemmele/answerquest.git\n",
        "!pip install torch==1.10.0+cu111 -f https://download.pytorch.org/whl/cu111/torch_stable.html"
      ]
    },
    {
      "cell_type": "code",
      "execution_count": null,
      "metadata": {
        "id": "5K9nxHj-tqeJ"
      },
      "outputs": [],
      "source": [
        "!git clone https://github.com/roemmele/answerquest.git\n",
        "!bash /content/answerquest/download_models.sh"
      ]
    },
    {
      "cell_type": "code",
      "execution_count": null,
      "metadata": {
        "id": "y-KQjrMzWR-e"
      },
      "outputs": [],
      "source": [
        "from google.colab import drive\n",
        "drive.mount('/content/gdrive')"
      ]
    },
    {
      "cell_type": "code",
      "execution_count": null,
      "metadata": {
        "id": "Tan2e3k0t8K8"
      },
      "outputs": [],
      "source": [
        "!cp -r /content/doc_qa_model /content/gdrive/MyDrive/IR_code\n",
        "!cp -r /content/qg_augmented_model /content/gdrive/MyDrive/IR_code"
      ]
    },
    {
      "cell_type": "code",
      "execution_count": null,
      "metadata": {
        "id": "TQqflBNzu2RR"
      },
      "outputs": [],
      "source": [
        "!wget https://github.com/voidful/BDG/releases/download/v1.0/BDG_ANPM.pt\n",
        "!wget https://github.com/voidful/BDG/releases/download/v1.0/BDG_PM.pt\n",
        "!wget https://github.com/voidful/BDG/releases/download/v1.0/BDG.pt"
      ]
    },
    {
      "cell_type": "code",
      "execution_count": null,
      "metadata": {
        "id": "QKoP79t9vPIO"
      },
      "outputs": [],
      "source": [
        "!cp -r /content/BDG_PM.pt /content/gdrive/MyDrive/IR_code\n",
        "!cp -r /content/BDG_ANPM.pt /content/gdrive/MyDrive/IR_code\n",
        "!cp -r /content/BDG.pt /content/gdrive/MyDrive/IR_code"
      ]
    },
    {
      "cell_type": "code",
      "execution_count": null,
      "metadata": {
        "id": "GQuHjYKQ_W9O"
      },
      "outputs": [],
      "source": [
        "from pyngrok import ngrok\n",
        "from flask import Flask, render_template , request \n",
        "import os\n",
        "import threading\n",
        "import pickle\n",
        "from flask_bootstrap import Bootstrap\n",
        "from flask_wtf import FlaskForm\n",
        "from wtforms import StringField, SubmitField, TextAreaField\n",
        "from wtforms.validators import DataRequired\n",
        "\n",
        "from answerquest import QnAPipeline\n",
        "import nlp2go\n"
      ]
    },
    {
      "cell_type": "code",
      "execution_count": null,
      "metadata": {
        "id": "cMhaSqIYA0FB"
      },
      "outputs": [],
      "source": [
        "class InputForm(FlaskForm):\n",
        "    inputText = TextAreaField('Enter Quiz Material', validators=[DataRequired()],render_kw={'rows':'10'})\n",
        "    submit = SubmitField('Generate Questions')\n"
      ]
    },
    {
      "cell_type": "code",
      "execution_count": null,
      "metadata": {
        "id": "FeUxeRHYvr16"
      },
      "outputs": [],
      "source": [
        "def initialise(qg_tokenizer_path, qg_model_path, qa_model_path, BDG_model_path ):\n",
        "  qna_pipeline = QnAPipeline(\n",
        "    qg_tokenizer_path=qg_tokenizer_path,\n",
        "    qg_model_path=qg_model_path,\n",
        "    qa_model_path=qa_model_path\n",
        "    # qg_tokenizer_path=\"qg_augmented_model/gpt2_tokenizer_vocab/\",\n",
        "    # qg_model_path=\"qg_augmented_model/qg_augmented_model.pt\",\n",
        "    # qa_model_path=\"doc_qa_model/checkpoint-59499/\"\n",
        "  )\n",
        "\n",
        "  bdg_pm_model = nlp2go.Model(BDG_model_path)\n",
        "  # bdg_pm_model = nlp2go.Model('./BDG_PM.pt')\n",
        "\n",
        "  return qna_pipeline, bdg_pm_model\n",
        "\n",
        "\n",
        "def func(input_text):\n",
        "    qna_pipeline, bdg_pm_model = initialise(\"/content/gdrive/MyDrive/IR_code/qg_augmented_model/gpt2_tokenizer_vocab/\", \"/content/gdrive/MyDrive/IR_code/qg_augmented_model/qg_augmented_model.pt\", \"/content/gdrive/MyDrive/IR_code/doc_qa_model/checkpoint-59499\", '/content/gdrive/MyDrive/IR_code/BDG_PM.pt')\n",
        "\n",
        "    (sent_idxs,questions,answers) = qna_pipeline.generate_qna_items(\n",
        "        input_text,\n",
        "        filter_duplicate_answers=True,\n",
        "        filter_redundant=True,\n",
        "        sort_by_sent_order=True)\n",
        "\n",
        "    # sent_idxs, questions, answers\n",
        "    distractors = []\n",
        "\n",
        "    result = []\n",
        "\n",
        "    for a,b,c in zip(sent_idxs, questions, answers):\n",
        "        print(a)\n",
        "\n",
        "        strI = input_text + \" [SEP] \" + b + \" [SEP] \" + c\n",
        "        input_json = {\n",
        "        \"input\": strI\n",
        "        }\n",
        "\n",
        "        x=bdg_pm_model.predict(input_json)\n",
        "        new_entry = dict()\n",
        "        new_entry['question']=b\n",
        "        new_entry['line_no']=a\n",
        "        new_entry['ans']=c\n",
        "        new_entry['distractor']=x['result'][0]\n",
        "        result.append(new_entry)\n",
        "\n",
        "    return result"
      ]
    },
    {
      "cell_type": "code",
      "execution_count": null,
      "metadata": {
        "id": "VecOr-jQveey"
      },
      "outputs": [],
      "source": [
        "\n",
        "app = Flask(__name__,template_folder='/content/gdrive/MyDrive/IR_code/templates',static_folder='/content/gdrive/MyDrive/IR_code/static')\n",
        "ngrok.set_auth_token(\"*******************************\")#TODO: add this auth token here\n",
        "port = 5000\n",
        "public_url = ngrok.connect(port).public_url\n",
        "app.config[\"BASE_URL\"] = public_url\n",
        "app.config['SECRET_KEY'] = '***************************'#TODO: add a secret key here\n",
        "Bootstrap(app)"
      ]
    },
    {
      "cell_type": "code",
      "execution_count": null,
      "metadata": {
        "id": "dtdLgtTz_duh"
      },
      "outputs": [],
      "source": [
        "# qna_pipeline= None\n",
        "# bdg_pm_model=None\n",
        "\n",
        "# @app.before_first_request\n",
        "# def activate_job():\n",
        "#   qna_pipeline, bdg_pm_model = initialise(\"/content/gdrive/MyDrive/IR_code/qg_augmented_model/gpt2_tokenizer_vocab/\", \"/content/gdrive/MyDrive/IR_code/qg_augmented_model/qg_augmented_model.pt\", \"/content/gdrive/MyDrive/IR_code/doc_qa_model/checkpoint-59499\", '/content/gdrive/MyDrive/IR_code/BDG_PM.pt')\n",
        "\n",
        "@app.route('/')\n",
        "def index():\n",
        "    return render_template('index.html')\n",
        "\n",
        "@app.route('/quizgen',methods=[\"GET\", \"POST\"])\n",
        "def quizgen():\n",
        "    form = InputForm()\n",
        "    qa = []\n",
        "    if form.validate_on_submit():\n",
        "        inputData = form.inputText.data\n",
        "        qa = func(inputData)\n",
        "        print(qa)\n",
        "        #return render_template('quizgen.html',form=form,result=qa)\n",
        "    return render_template('quizgen.html',form=form,results=qa)\n",
        "print(\" * ngrok tunnel \\\"{}\\\" -> \\\"http://127.0.0.1:{}\\\"\".format(public_url, port))\n",
        "app.run()\n"
      ]
    }
  ],
  "metadata": {
    "accelerator": "GPU",
    "colab": {
      "authorship_tag": "ABX9TyMPMi3byyDYUE9uinQLcqkL",
      "collapsed_sections": [],
      "include_colab_link": true,
      "name": "Untitled0.ipynb",
      "private_outputs": true,
      "provenance": []
    },
    "kernelspec": {
      "display_name": "Python 3",
      "name": "python3"
    },
    "language_info": {
      "name": "python",
      "version": "3.8.9"
    }
  },
  "nbformat": 4,
  "nbformat_minor": 0
}
