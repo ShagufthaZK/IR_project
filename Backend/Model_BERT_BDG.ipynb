{
  "nbformat": 4,
  "nbformat_minor": 0,
  "metadata": {
    "colab": {
      "name": "Model_BERT_BDG.ipynb",
      "provenance": [],
      "collapsed_sections": []
    },
    "kernelspec": {
      "name": "python3",
      "display_name": "Python 3"
    },
    "language_info": {
      "name": "python"
    }
  },
  "cells": [
    {
      "cell_type": "code",
      "execution_count": null,
      "metadata": {
        "colab": {
          "base_uri": "https://localhost:8080/",
          "height": 1000
        },
        "id": "P7rha1W8Pj87",
        "outputId": "67958af3-3090-40d7-95fe-d6c34725e58b"
      },
      "outputs": [
        {
          "output_type": "stream",
          "name": "stdout",
          "text": [
            "Collecting tfkit==0.7.21\n",
            "  Downloading tfkit-0.7.21-py3-none-any.whl (78 kB)\n",
            "\u001b[K     |████████████████████████████████| 78 kB 2.8 MB/s \n",
            "\u001b[?25hCollecting nlp2go==0.4.12\n",
            "  Downloading nlp2go-0.4.12-py3-none-any.whl (14 kB)\n",
            "Collecting nlp2>=1.8.32\n",
            "  Downloading nlp2-1.8.43-py3-none-any.whl (24 kB)\n",
            "Collecting sentencepiece\n",
            "  Downloading sentencepiece-0.1.96-cp37-cp37m-manylinux_2_17_x86_64.manylinux2014_x86_64.whl (1.2 MB)\n",
            "\u001b[K     |████████████████████████████████| 1.2 MB 9.0 MB/s \n",
            "\u001b[?25hRequirement already satisfied: matplotlib in /usr/local/lib/python3.7/dist-packages (from tfkit==0.7.21) (3.2.2)\n",
            "Requirement already satisfied: torch in /usr/local/lib/python3.7/dist-packages (from tfkit==0.7.21) (1.10.0+cu111)\n",
            "Requirement already satisfied: numpy in /usr/local/lib/python3.7/dist-packages (from tfkit==0.7.21) (1.21.5)\n",
            "Collecting pytorch-crf\n",
            "  Downloading pytorch_crf-0.7.2-py3-none-any.whl (9.5 kB)\n",
            "Collecting tensorboardX\n",
            "  Downloading tensorboardX-2.5-py2.py3-none-any.whl (125 kB)\n",
            "\u001b[K     |████████████████████████████████| 125 kB 55.3 MB/s \n",
            "\u001b[?25hRequirement already satisfied: sklearn in /usr/local/lib/python3.7/dist-packages (from tfkit==0.7.21) (0.0)\n",
            "Collecting transformers>=3.3.0\n",
            "  Downloading transformers-4.18.0-py3-none-any.whl (4.0 MB)\n",
            "\u001b[K     |████████████████████████████████| 4.0 MB 47.7 MB/s \n",
            "\u001b[?25hRequirement already satisfied: tqdm>=4.45.0 in /usr/local/lib/python3.7/dist-packages (from tfkit==0.7.21) (4.63.0)\n",
            "Collecting inquirer\n",
            "  Downloading inquirer-2.9.2-py3-none-any.whl (16 kB)\n",
            "Collecting gevent\n",
            "  Downloading gevent-21.12.0-cp37-cp37m-manylinux_2_12_x86_64.manylinux2010_x86_64.whl (5.8 MB)\n",
            "\u001b[K     |████████████████████████████████| 5.8 MB 29.0 MB/s \n",
            "\u001b[?25hRequirement already satisfied: flask in /usr/local/lib/python3.7/dist-packages (from nlp2go==0.4.12) (1.1.4)\n",
            "Collecting Flask-Caching\n",
            "  Downloading Flask_Caching-1.10.1-py3-none-any.whl (34 kB)\n",
            "Collecting flask-cors\n",
            "  Downloading Flask_Cors-3.0.10-py2.py3-none-any.whl (14 kB)\n",
            "Requirement already satisfied: importlib-metadata in /usr/local/lib/python3.7/dist-packages (from transformers>=3.3.0->tfkit==0.7.21) (4.11.3)\n",
            "Requirement already satisfied: packaging>=20.0 in /usr/local/lib/python3.7/dist-packages (from transformers>=3.3.0->tfkit==0.7.21) (21.3)\n",
            "Collecting huggingface-hub<1.0,>=0.1.0\n",
            "  Downloading huggingface_hub-0.5.1-py3-none-any.whl (77 kB)\n",
            "\u001b[K     |████████████████████████████████| 77 kB 6.6 MB/s \n",
            "\u001b[?25hRequirement already satisfied: regex!=2019.12.17 in /usr/local/lib/python3.7/dist-packages (from transformers>=3.3.0->tfkit==0.7.21) (2019.12.20)\n",
            "Collecting sacremoses\n",
            "  Downloading sacremoses-0.0.49-py3-none-any.whl (895 kB)\n",
            "\u001b[K     |████████████████████████████████| 895 kB 59.8 MB/s \n",
            "\u001b[?25hCollecting pyyaml>=5.1\n",
            "  Downloading PyYAML-6.0-cp37-cp37m-manylinux_2_5_x86_64.manylinux1_x86_64.manylinux_2_12_x86_64.manylinux2010_x86_64.whl (596 kB)\n",
            "\u001b[K     |████████████████████████████████| 596 kB 57.7 MB/s \n",
            "\u001b[?25hRequirement already satisfied: requests in /usr/local/lib/python3.7/dist-packages (from transformers>=3.3.0->tfkit==0.7.21) (2.23.0)\n",
            "Requirement already satisfied: filelock in /usr/local/lib/python3.7/dist-packages (from transformers>=3.3.0->tfkit==0.7.21) (3.6.0)\n",
            "Collecting tokenizers!=0.11.3,<0.13,>=0.11.1\n",
            "  Downloading tokenizers-0.11.6-cp37-cp37m-manylinux_2_12_x86_64.manylinux2010_x86_64.whl (6.5 MB)\n",
            "\u001b[K     |████████████████████████████████| 6.5 MB 41.2 MB/s \n",
            "\u001b[?25hRequirement already satisfied: typing-extensions>=3.7.4.3 in /usr/local/lib/python3.7/dist-packages (from huggingface-hub<1.0,>=0.1.0->transformers>=3.3.0->tfkit==0.7.21) (3.10.0.2)\n",
            "Requirement already satisfied: pyparsing!=3.0.5,>=2.0.2 in /usr/local/lib/python3.7/dist-packages (from packaging>=20.0->transformers>=3.3.0->tfkit==0.7.21) (3.0.7)\n",
            "Requirement already satisfied: itsdangerous<2.0,>=0.24 in /usr/local/lib/python3.7/dist-packages (from flask->nlp2go==0.4.12) (1.1.0)\n",
            "Requirement already satisfied: Jinja2<3.0,>=2.10.1 in /usr/local/lib/python3.7/dist-packages (from flask->nlp2go==0.4.12) (2.11.3)\n",
            "Requirement already satisfied: click<8.0,>=5.1 in /usr/local/lib/python3.7/dist-packages (from flask->nlp2go==0.4.12) (7.1.2)\n",
            "Requirement already satisfied: Werkzeug<2.0,>=0.15 in /usr/local/lib/python3.7/dist-packages (from flask->nlp2go==0.4.12) (1.0.1)\n",
            "Requirement already satisfied: MarkupSafe>=0.23 in /usr/local/lib/python3.7/dist-packages (from Jinja2<3.0,>=2.10.1->flask->nlp2go==0.4.12) (2.0.1)\n",
            "Requirement already satisfied: Six in /usr/local/lib/python3.7/dist-packages (from flask-cors->nlp2go==0.4.12) (1.15.0)\n",
            "Collecting zope.interface\n",
            "  Downloading zope.interface-5.4.0-cp37-cp37m-manylinux2010_x86_64.whl (251 kB)\n",
            "\u001b[K     |████████████████████████████████| 251 kB 73.6 MB/s \n",
            "\u001b[?25hRequirement already satisfied: greenlet<2.0,>=1.1.0 in /usr/local/lib/python3.7/dist-packages (from gevent->nlp2go==0.4.12) (1.1.2)\n",
            "Collecting zope.event\n",
            "  Downloading zope.event-4.5.0-py2.py3-none-any.whl (6.8 kB)\n",
            "Requirement already satisfied: setuptools in /usr/local/lib/python3.7/dist-packages (from gevent->nlp2go==0.4.12) (57.4.0)\n",
            "Requirement already satisfied: zipp>=0.5 in /usr/local/lib/python3.7/dist-packages (from importlib-metadata->transformers>=3.3.0->tfkit==0.7.21) (3.7.0)\n",
            "Collecting python-editor>=1.0.4\n",
            "  Downloading python_editor-1.0.4-py3-none-any.whl (4.9 kB)\n",
            "Collecting blessed>=1.19.0\n",
            "  Downloading blessed-1.19.1-py2.py3-none-any.whl (58 kB)\n",
            "\u001b[K     |████████████████████████████████| 58 kB 4.1 MB/s \n",
            "\u001b[?25hCollecting readchar>=2.0.1\n",
            "  Downloading readchar-3.0.5-py3-none-any.whl (7.0 kB)\n",
            "Requirement already satisfied: wcwidth>=0.1.4 in /usr/local/lib/python3.7/dist-packages (from blessed>=1.19.0->inquirer->tfkit==0.7.21) (0.2.5)\n",
            "Requirement already satisfied: cycler>=0.10 in /usr/local/lib/python3.7/dist-packages (from matplotlib->tfkit==0.7.21) (0.11.0)\n",
            "Requirement already satisfied: python-dateutil>=2.1 in /usr/local/lib/python3.7/dist-packages (from matplotlib->tfkit==0.7.21) (2.8.2)\n",
            "Requirement already satisfied: kiwisolver>=1.0.1 in /usr/local/lib/python3.7/dist-packages (from matplotlib->tfkit==0.7.21) (1.4.0)\n",
            "Requirement already satisfied: idna<3,>=2.5 in /usr/local/lib/python3.7/dist-packages (from requests->transformers>=3.3.0->tfkit==0.7.21) (2.10)\n",
            "Requirement already satisfied: certifi>=2017.4.17 in /usr/local/lib/python3.7/dist-packages (from requests->transformers>=3.3.0->tfkit==0.7.21) (2021.10.8)\n",
            "Requirement already satisfied: urllib3!=1.25.0,!=1.25.1,<1.26,>=1.21.1 in /usr/local/lib/python3.7/dist-packages (from requests->transformers>=3.3.0->tfkit==0.7.21) (1.24.3)\n",
            "Requirement already satisfied: chardet<4,>=3.0.2 in /usr/local/lib/python3.7/dist-packages (from requests->transformers>=3.3.0->tfkit==0.7.21) (3.0.4)\n",
            "Requirement already satisfied: joblib in /usr/local/lib/python3.7/dist-packages (from sacremoses->transformers>=3.3.0->tfkit==0.7.21) (1.1.0)\n",
            "Requirement already satisfied: scikit-learn in /usr/local/lib/python3.7/dist-packages (from sklearn->tfkit==0.7.21) (1.0.2)\n",
            "Requirement already satisfied: threadpoolctl>=2.0.0 in /usr/local/lib/python3.7/dist-packages (from scikit-learn->sklearn->tfkit==0.7.21) (3.1.0)\n",
            "Requirement already satisfied: scipy>=1.1.0 in /usr/local/lib/python3.7/dist-packages (from scikit-learn->sklearn->tfkit==0.7.21) (1.4.1)\n",
            "Requirement already satisfied: protobuf>=3.8.0 in /usr/local/lib/python3.7/dist-packages (from tensorboardX->tfkit==0.7.21) (3.17.3)\n",
            "Installing collected packages: pyyaml, tokenizers, sacremoses, readchar, python-editor, huggingface-hub, blessed, zope.interface, zope.event, transformers, tensorboardX, sentencepiece, pytorch-crf, nlp2, inquirer, tfkit, gevent, flask-cors, Flask-Caching, nlp2go\n",
            "  Attempting uninstall: pyyaml\n",
            "    Found existing installation: PyYAML 3.13\n",
            "    Uninstalling PyYAML-3.13:\n",
            "      Successfully uninstalled PyYAML-3.13\n",
            "Successfully installed Flask-Caching-1.10.1 blessed-1.19.1 flask-cors-3.0.10 gevent-21.12.0 huggingface-hub-0.5.1 inquirer-2.9.2 nlp2-1.8.43 nlp2go-0.4.12 python-editor-1.0.4 pytorch-crf-0.7.2 pyyaml-6.0 readchar-3.0.5 sacremoses-0.0.49 sentencepiece-0.1.96 tensorboardX-2.5 tfkit-0.7.21 tokenizers-0.11.6 transformers-4.18.0 zope.event-4.5.0 zope.interface-5.4.0\n",
            "Collecting git+https://github.com/roemmele/answerquest.git\n",
            "  Cloning https://github.com/roemmele/answerquest.git to /tmp/pip-req-build-5qqn2s30\n",
            "  Running command git clone -q https://github.com/roemmele/answerquest.git /tmp/pip-req-build-5qqn2s30\n",
            "Collecting en_core_web_sm@ https://github.com/explosion/spacy-models/releases/download/en_core_web_sm-2.3.1/en_core_web_sm-2.3.1.tar.gz\n",
            "  Downloading https://github.com/explosion/spacy-models/releases/download/en_core_web_sm-2.3.1/en_core_web_sm-2.3.1.tar.gz (12.0 MB)\n",
            "\u001b[K     |████████████████████████████████| 12.0 MB 555 kB/s \n",
            "\u001b[?25hCollecting numpy==1.19.1\n",
            "  Downloading numpy-1.19.1-cp37-cp37m-manylinux2010_x86_64.whl (14.5 MB)\n",
            "\u001b[K     |████████████████████████████████| 14.5 MB 4.2 MB/s \n",
            "\u001b[?25hCollecting torch==1.6.0\n",
            "  Downloading torch-1.6.0-cp37-cp37m-manylinux1_x86_64.whl (748.8 MB)\n",
            "\u001b[K     |████████████████████████████████| 748.8 MB 17 kB/s \n",
            "\u001b[?25hCollecting spacy==2.3.2\n",
            "  Downloading spacy-2.3.2-cp37-cp37m-manylinux1_x86_64.whl (9.9 MB)\n",
            "\u001b[K     |████████████████████████████████| 9.9 MB 25.6 MB/s \n",
            "\u001b[?25hCollecting transformers==3.0.2\n",
            "  Downloading transformers-3.0.2-py3-none-any.whl (769 kB)\n",
            "\u001b[K     |████████████████████████████████| 769 kB 49.7 MB/s \n",
            "\u001b[?25hCollecting rank-bm25==0.2.1\n",
            "  Downloading rank_bm25-0.2.1-py3-none-any.whl (8.5 kB)\n",
            "Collecting nltk==3.5\n",
            "  Downloading nltk-3.5.zip (1.4 MB)\n",
            "\u001b[K     |████████████████████████████████| 1.4 MB 55.6 MB/s \n",
            "\u001b[?25hCollecting OpenNMT-py==1.2.0\n",
            "  Downloading OpenNMT_py-1.2.0-py3-none-any.whl (195 kB)\n",
            "\u001b[K     |████████████████████████████████| 195 kB 45.1 MB/s \n",
            "\u001b[?25hRequirement already satisfied: click in /usr/local/lib/python3.7/dist-packages (from nltk==3.5->answerquest==1.0.0) (7.1.2)\n",
            "Requirement already satisfied: joblib in /usr/local/lib/python3.7/dist-packages (from nltk==3.5->answerquest==1.0.0) (1.1.0)\n",
            "Requirement already satisfied: regex in /usr/local/lib/python3.7/dist-packages (from nltk==3.5->answerquest==1.0.0) (2019.12.20)\n",
            "Requirement already satisfied: tqdm in /usr/local/lib/python3.7/dist-packages (from nltk==3.5->answerquest==1.0.0) (4.63.0)\n",
            "Requirement already satisfied: pyyaml in /usr/local/lib/python3.7/dist-packages (from OpenNMT-py==1.2.0->answerquest==1.0.0) (6.0)\n",
            "Collecting torchtext==0.4.0\n",
            "  Downloading torchtext-0.4.0-py3-none-any.whl (53 kB)\n",
            "\u001b[K     |████████████████████████████████| 53 kB 1.4 MB/s \n",
            "\u001b[?25hCollecting pyonmttok==1.*\n",
            "  Downloading pyonmttok-1.31.0-cp37-cp37m-manylinux_2_12_x86_64.manylinux2010_x86_64.whl (16.6 MB)\n",
            "\u001b[K     |████████████████████████████████| 16.6 MB 339 kB/s \n",
            "\u001b[?25hRequirement already satisfied: flask in /usr/local/lib/python3.7/dist-packages (from OpenNMT-py==1.2.0->answerquest==1.0.0) (1.1.4)\n",
            "Collecting waitress\n",
            "  Downloading waitress-2.1.1-py3-none-any.whl (57 kB)\n",
            "\u001b[K     |████████████████████████████████| 57 kB 4.4 MB/s \n",
            "\u001b[?25hRequirement already satisfied: six in /usr/local/lib/python3.7/dist-packages (from OpenNMT-py==1.2.0->answerquest==1.0.0) (1.15.0)\n",
            "Collecting configargparse\n",
            "  Downloading ConfigArgParse-1.5.3-py3-none-any.whl (20 kB)\n",
            "Requirement already satisfied: future in /usr/local/lib/python3.7/dist-packages (from OpenNMT-py==1.2.0->answerquest==1.0.0) (0.16.0)\n",
            "Requirement already satisfied: tensorboard>=1.14 in /usr/local/lib/python3.7/dist-packages (from OpenNMT-py==1.2.0->answerquest==1.0.0) (2.8.0)\n",
            "Requirement already satisfied: preshed<3.1.0,>=3.0.2 in /usr/local/lib/python3.7/dist-packages (from spacy==2.3.2->answerquest==1.0.0) (3.0.6)\n",
            "Requirement already satisfied: srsly<1.1.0,>=1.0.2 in /usr/local/lib/python3.7/dist-packages (from spacy==2.3.2->answerquest==1.0.0) (1.0.5)\n",
            "Requirement already satisfied: wasabi<1.1.0,>=0.4.0 in /usr/local/lib/python3.7/dist-packages (from spacy==2.3.2->answerquest==1.0.0) (0.9.0)\n",
            "Requirement already satisfied: requests<3.0.0,>=2.13.0 in /usr/local/lib/python3.7/dist-packages (from spacy==2.3.2->answerquest==1.0.0) (2.23.0)\n",
            "Requirement already satisfied: cymem<2.1.0,>=2.0.2 in /usr/local/lib/python3.7/dist-packages (from spacy==2.3.2->answerquest==1.0.0) (2.0.6)\n",
            "Collecting thinc==7.4.1\n",
            "  Downloading thinc-7.4.1-cp37-cp37m-manylinux1_x86_64.whl (2.1 MB)\n",
            "\u001b[K     |████████████████████████████████| 2.1 MB 69.4 MB/s \n",
            "\u001b[?25hRequirement already satisfied: catalogue<1.1.0,>=0.0.7 in /usr/local/lib/python3.7/dist-packages (from spacy==2.3.2->answerquest==1.0.0) (1.0.0)\n",
            "Requirement already satisfied: setuptools in /usr/local/lib/python3.7/dist-packages (from spacy==2.3.2->answerquest==1.0.0) (57.4.0)\n",
            "Requirement already satisfied: blis<0.5.0,>=0.4.0 in /usr/local/lib/python3.7/dist-packages (from spacy==2.3.2->answerquest==1.0.0) (0.4.1)\n",
            "Requirement already satisfied: plac<1.2.0,>=0.9.6 in /usr/local/lib/python3.7/dist-packages (from spacy==2.3.2->answerquest==1.0.0) (1.1.3)\n",
            "Requirement already satisfied: murmurhash<1.1.0,>=0.28.0 in /usr/local/lib/python3.7/dist-packages (from spacy==2.3.2->answerquest==1.0.0) (1.0.6)\n",
            "Requirement already satisfied: sacremoses in /usr/local/lib/python3.7/dist-packages (from transformers==3.0.2->answerquest==1.0.0) (0.0.49)\n",
            "Requirement already satisfied: filelock in /usr/local/lib/python3.7/dist-packages (from transformers==3.0.2->answerquest==1.0.0) (3.6.0)\n",
            "Requirement already satisfied: sentencepiece!=0.1.92 in /usr/local/lib/python3.7/dist-packages (from transformers==3.0.2->answerquest==1.0.0) (0.1.96)\n",
            "Requirement already satisfied: packaging in /usr/local/lib/python3.7/dist-packages (from transformers==3.0.2->answerquest==1.0.0) (21.3)\n",
            "Collecting tokenizers==0.8.1.rc1\n",
            "  Downloading tokenizers-0.8.1rc1-cp37-cp37m-manylinux1_x86_64.whl (3.0 MB)\n",
            "\u001b[K     |████████████████████████████████| 3.0 MB 61.4 MB/s \n",
            "\u001b[?25hRequirement already satisfied: importlib-metadata>=0.20 in /usr/local/lib/python3.7/dist-packages (from catalogue<1.1.0,>=0.0.7->spacy==2.3.2->answerquest==1.0.0) (4.11.3)\n",
            "Requirement already satisfied: zipp>=0.5 in /usr/local/lib/python3.7/dist-packages (from importlib-metadata>=0.20->catalogue<1.1.0,>=0.0.7->spacy==2.3.2->answerquest==1.0.0) (3.7.0)\n",
            "Requirement already satisfied: typing-extensions>=3.6.4 in /usr/local/lib/python3.7/dist-packages (from importlib-metadata>=0.20->catalogue<1.1.0,>=0.0.7->spacy==2.3.2->answerquest==1.0.0) (3.10.0.2)\n",
            "Requirement already satisfied: idna<3,>=2.5 in /usr/local/lib/python3.7/dist-packages (from requests<3.0.0,>=2.13.0->spacy==2.3.2->answerquest==1.0.0) (2.10)\n",
            "Requirement already satisfied: urllib3!=1.25.0,!=1.25.1,<1.26,>=1.21.1 in /usr/local/lib/python3.7/dist-packages (from requests<3.0.0,>=2.13.0->spacy==2.3.2->answerquest==1.0.0) (1.24.3)\n",
            "Requirement already satisfied: chardet<4,>=3.0.2 in /usr/local/lib/python3.7/dist-packages (from requests<3.0.0,>=2.13.0->spacy==2.3.2->answerquest==1.0.0) (3.0.4)\n",
            "Requirement already satisfied: certifi>=2017.4.17 in /usr/local/lib/python3.7/dist-packages (from requests<3.0.0,>=2.13.0->spacy==2.3.2->answerquest==1.0.0) (2021.10.8)\n",
            "Requirement already satisfied: markdown>=2.6.8 in /usr/local/lib/python3.7/dist-packages (from tensorboard>=1.14->OpenNMT-py==1.2.0->answerquest==1.0.0) (3.3.6)\n",
            "Requirement already satisfied: tensorboard-data-server<0.7.0,>=0.6.0 in /usr/local/lib/python3.7/dist-packages (from tensorboard>=1.14->OpenNMT-py==1.2.0->answerquest==1.0.0) (0.6.1)\n",
            "Requirement already satisfied: werkzeug>=0.11.15 in /usr/local/lib/python3.7/dist-packages (from tensorboard>=1.14->OpenNMT-py==1.2.0->answerquest==1.0.0) (1.0.1)\n",
            "Requirement already satisfied: grpcio>=1.24.3 in /usr/local/lib/python3.7/dist-packages (from tensorboard>=1.14->OpenNMT-py==1.2.0->answerquest==1.0.0) (1.44.0)\n",
            "Requirement already satisfied: absl-py>=0.4 in /usr/local/lib/python3.7/dist-packages (from tensorboard>=1.14->OpenNMT-py==1.2.0->answerquest==1.0.0) (1.0.0)\n",
            "Requirement already satisfied: tensorboard-plugin-wit>=1.6.0 in /usr/local/lib/python3.7/dist-packages (from tensorboard>=1.14->OpenNMT-py==1.2.0->answerquest==1.0.0) (1.8.1)\n",
            "Requirement already satisfied: protobuf>=3.6.0 in /usr/local/lib/python3.7/dist-packages (from tensorboard>=1.14->OpenNMT-py==1.2.0->answerquest==1.0.0) (3.17.3)\n",
            "Requirement already satisfied: wheel>=0.26 in /usr/local/lib/python3.7/dist-packages (from tensorboard>=1.14->OpenNMT-py==1.2.0->answerquest==1.0.0) (0.37.1)\n",
            "Requirement already satisfied: google-auth<3,>=1.6.3 in /usr/local/lib/python3.7/dist-packages (from tensorboard>=1.14->OpenNMT-py==1.2.0->answerquest==1.0.0) (1.35.0)\n",
            "Requirement already satisfied: google-auth-oauthlib<0.5,>=0.4.1 in /usr/local/lib/python3.7/dist-packages (from tensorboard>=1.14->OpenNMT-py==1.2.0->answerquest==1.0.0) (0.4.6)\n",
            "Requirement already satisfied: pyasn1-modules>=0.2.1 in /usr/local/lib/python3.7/dist-packages (from google-auth<3,>=1.6.3->tensorboard>=1.14->OpenNMT-py==1.2.0->answerquest==1.0.0) (0.2.8)\n",
            "Requirement already satisfied: cachetools<5.0,>=2.0.0 in /usr/local/lib/python3.7/dist-packages (from google-auth<3,>=1.6.3->tensorboard>=1.14->OpenNMT-py==1.2.0->answerquest==1.0.0) (4.2.4)\n",
            "Requirement already satisfied: rsa<5,>=3.1.4 in /usr/local/lib/python3.7/dist-packages (from google-auth<3,>=1.6.3->tensorboard>=1.14->OpenNMT-py==1.2.0->answerquest==1.0.0) (4.8)\n",
            "Requirement already satisfied: requests-oauthlib>=0.7.0 in /usr/local/lib/python3.7/dist-packages (from google-auth-oauthlib<0.5,>=0.4.1->tensorboard>=1.14->OpenNMT-py==1.2.0->answerquest==1.0.0) (1.3.1)\n",
            "Requirement already satisfied: pyasn1<0.5.0,>=0.4.6 in /usr/local/lib/python3.7/dist-packages (from pyasn1-modules>=0.2.1->google-auth<3,>=1.6.3->tensorboard>=1.14->OpenNMT-py==1.2.0->answerquest==1.0.0) (0.4.8)\n",
            "Requirement already satisfied: oauthlib>=3.0.0 in /usr/local/lib/python3.7/dist-packages (from requests-oauthlib>=0.7.0->google-auth-oauthlib<0.5,>=0.4.1->tensorboard>=1.14->OpenNMT-py==1.2.0->answerquest==1.0.0) (3.2.0)\n",
            "Requirement already satisfied: Jinja2<3.0,>=2.10.1 in /usr/local/lib/python3.7/dist-packages (from flask->OpenNMT-py==1.2.0->answerquest==1.0.0) (2.11.3)\n",
            "Requirement already satisfied: itsdangerous<2.0,>=0.24 in /usr/local/lib/python3.7/dist-packages (from flask->OpenNMT-py==1.2.0->answerquest==1.0.0) (1.1.0)\n",
            "Requirement already satisfied: MarkupSafe>=0.23 in /usr/local/lib/python3.7/dist-packages (from Jinja2<3.0,>=2.10.1->flask->OpenNMT-py==1.2.0->answerquest==1.0.0) (2.0.1)\n",
            "Requirement already satisfied: pyparsing!=3.0.5,>=2.0.2 in /usr/local/lib/python3.7/dist-packages (from packaging->transformers==3.0.2->answerquest==1.0.0) (3.0.7)\n",
            "Building wheels for collected packages: answerquest, en-core-web-sm, nltk\n",
            "  Building wheel for answerquest (setup.py) ... \u001b[?25l\u001b[?25hdone\n",
            "  Created wheel for answerquest: filename=answerquest-1.0.0-py3-none-any.whl size=11605 sha256=ee772d414630f6cc115cfb8f2feeb211f0d528c3ad595a433439890000b061cb\n",
            "  Stored in directory: /tmp/pip-ephem-wheel-cache-2ovdbl4p/wheels/13/c1/04/523363ac42259e9f6e1e44b53a2b2a8042982a68c1ea0c4876\n",
            "  Building wheel for en-core-web-sm (setup.py) ... \u001b[?25l\u001b[?25hdone\n",
            "  Created wheel for en-core-web-sm: filename=en_core_web_sm-2.3.1-py3-none-any.whl size=12047105 sha256=410405367312ba4892db637add63b9249672f6c247b50878e58ff5b8f77928b8\n",
            "  Stored in directory: /root/.cache/pip/wheels/b7/0d/f0/7ecae8427c515065d75410989e15e5785dd3975fe06e795cd9\n",
            "  Building wheel for nltk (setup.py) ... \u001b[?25l\u001b[?25hdone\n",
            "  Created wheel for nltk: filename=nltk-3.5-py3-none-any.whl size=1434693 sha256=3a737646667af939dc374f0ca1d0a4692adab24bb4260e753517e57986968bbd\n",
            "  Stored in directory: /root/.cache/pip/wheels/45/6c/46/a1865e7ba706b3817f5d1b2ff7ce8996aabdd0d03d47ba0266\n",
            "Successfully built answerquest en-core-web-sm nltk\n",
            "Installing collected packages: numpy, torch, thinc, waitress, torchtext, tokenizers, spacy, pyonmttok, configargparse, transformers, rank-bm25, OpenNMT-py, nltk, en-core-web-sm, answerquest\n",
            "  Attempting uninstall: numpy\n",
            "    Found existing installation: numpy 1.21.5\n",
            "    Uninstalling numpy-1.21.5:\n",
            "      Successfully uninstalled numpy-1.21.5\n",
            "  Attempting uninstall: torch\n",
            "    Found existing installation: torch 1.10.0+cu111\n",
            "    Uninstalling torch-1.10.0+cu111:\n",
            "      Successfully uninstalled torch-1.10.0+cu111\n",
            "  Attempting uninstall: thinc\n",
            "    Found existing installation: thinc 7.4.0\n",
            "    Uninstalling thinc-7.4.0:\n",
            "      Successfully uninstalled thinc-7.4.0\n",
            "  Attempting uninstall: torchtext\n",
            "    Found existing installation: torchtext 0.11.0\n",
            "    Uninstalling torchtext-0.11.0:\n",
            "      Successfully uninstalled torchtext-0.11.0\n",
            "  Attempting uninstall: tokenizers\n",
            "    Found existing installation: tokenizers 0.11.6\n",
            "    Uninstalling tokenizers-0.11.6:\n",
            "      Successfully uninstalled tokenizers-0.11.6\n",
            "  Attempting uninstall: spacy\n",
            "    Found existing installation: spacy 2.2.4\n",
            "    Uninstalling spacy-2.2.4:\n",
            "      Successfully uninstalled spacy-2.2.4\n",
            "  Attempting uninstall: transformers\n",
            "    Found existing installation: transformers 4.18.0\n",
            "    Uninstalling transformers-4.18.0:\n",
            "      Successfully uninstalled transformers-4.18.0\n",
            "  Attempting uninstall: nltk\n",
            "    Found existing installation: nltk 3.2.5\n",
            "    Uninstalling nltk-3.2.5:\n",
            "      Successfully uninstalled nltk-3.2.5\n",
            "  Attempting uninstall: en-core-web-sm\n",
            "    Found existing installation: en-core-web-sm 2.2.5\n",
            "    Uninstalling en-core-web-sm-2.2.5:\n",
            "      Successfully uninstalled en-core-web-sm-2.2.5\n",
            "\u001b[31mERROR: pip's dependency resolver does not currently take into account all the packages that are installed. This behaviour is the source of the following dependency conflicts.\n",
            "tensorflow 2.8.0 requires tf-estimator-nightly==2.8.0.dev2021122109, which is not installed.\n",
            "torchvision 0.11.1+cu111 requires torch==1.10.0, but you have torch 1.6.0 which is incompatible.\n",
            "torchaudio 0.10.0+cu111 requires torch==1.10.0, but you have torch 1.6.0 which is incompatible.\n",
            "tfkit 0.7.21 requires transformers>=3.3.0, but you have transformers 3.0.2 which is incompatible.\n",
            "tensorflow 2.8.0 requires numpy>=1.20, but you have numpy 1.19.1 which is incompatible.\n",
            "nlp2go 0.4.12 requires transformers>=3.3.0, but you have transformers 3.0.2 which is incompatible.\n",
            "datascience 0.10.6 requires folium==0.2.1, but you have folium 0.8.3 which is incompatible.\n",
            "albumentations 0.1.12 requires imgaug<0.2.7,>=0.2.5, but you have imgaug 0.2.9 which is incompatible.\u001b[0m\n",
            "Successfully installed OpenNMT-py-1.2.0 answerquest-1.0.0 configargparse-1.5.3 en-core-web-sm-2.3.1 nltk-3.5 numpy-1.19.1 pyonmttok-1.31.0 rank-bm25-0.2.1 spacy-2.3.2 thinc-7.4.1 tokenizers-0.8.1rc1 torch-1.6.0 torchtext-0.4.0 transformers-3.0.2 waitress-2.1.1\n"
          ]
        },
        {
          "output_type": "display_data",
          "data": {
            "application/vnd.colab-display-data+json": {
              "pip_warning": {
                "packages": [
                  "numpy"
                ]
              }
            }
          },
          "metadata": {}
        },
        {
          "output_type": "stream",
          "name": "stdout",
          "text": [
            "Looking in links: https://download.pytorch.org/whl/cu111/torch_stable.html\n",
            "Collecting torch==1.10.0+cu111\n",
            "  Downloading https://download.pytorch.org/whl/cu111/torch-1.10.0%2Bcu111-cp37-cp37m-linux_x86_64.whl (2137.6 MB)\n",
            "\u001b[K     |████████████▌                   | 834.1 MB 1.6 MB/s eta 0:13:14tcmalloc: large alloc 1147494400 bytes == 0x55c6c3bba000 @  0x7f5d14fff615 0x55c6c026317c 0x55c6c034347a 0x55c6c0265f9d 0x55c6c0357d4d 0x55c6c02d9ec8 0x55c6c02d4a2e 0x55c6c026788a 0x55c6c02d9d30 0x55c6c02d4a2e 0x55c6c026788a 0x55c6c02d6719 0x55c6c0358b76 0x55c6c02d5d95 0x55c6c0358b76 0x55c6c02d5d95 0x55c6c0358b76 0x55c6c02d5d95 0x55c6c0267ce9 0x55c6c02ab579 0x55c6c0266902 0x55c6c02d9c4d 0x55c6c02d4a2e 0x55c6c026788a 0x55c6c02d6719 0x55c6c02d4a2e 0x55c6c026788a 0x55c6c02d58f6 0x55c6c02677aa 0x55c6c02d5b4f 0x55c6c02d4a2e\n",
            "\u001b[K     |███████████████▉                | 1055.7 MB 1.4 MB/s eta 0:12:58tcmalloc: large alloc 1434370048 bytes == 0x55c708210000 @  0x7f5d14fff615 0x55c6c026317c 0x55c6c034347a 0x55c6c0265f9d 0x55c6c0357d4d 0x55c6c02d9ec8 0x55c6c02d4a2e 0x55c6c026788a 0x55c6c02d9d30 0x55c6c02d4a2e 0x55c6c026788a 0x55c6c02d6719 0x55c6c0358b76 0x55c6c02d5d95 0x55c6c0358b76 0x55c6c02d5d95 0x55c6c0358b76 0x55c6c02d5d95 0x55c6c0267ce9 0x55c6c02ab579 0x55c6c0266902 0x55c6c02d9c4d 0x55c6c02d4a2e 0x55c6c026788a 0x55c6c02d6719 0x55c6c02d4a2e 0x55c6c026788a 0x55c6c02d58f6 0x55c6c02677aa 0x55c6c02d5b4f 0x55c6c02d4a2e\n",
            "\u001b[K     |████████████████████            | 1336.2 MB 1.3 MB/s eta 0:10:19tcmalloc: large alloc 1792966656 bytes == 0x55c75d9fc000 @  0x7f5d14fff615 0x55c6c026317c 0x55c6c034347a 0x55c6c0265f9d 0x55c6c0357d4d 0x55c6c02d9ec8 0x55c6c02d4a2e 0x55c6c026788a 0x55c6c02d9d30 0x55c6c02d4a2e 0x55c6c026788a 0x55c6c02d6719 0x55c6c0358b76 0x55c6c02d5d95 0x55c6c0358b76 0x55c6c02d5d95 0x55c6c0358b76 0x55c6c02d5d95 0x55c6c0267ce9 0x55c6c02ab579 0x55c6c0266902 0x55c6c02d9c4d 0x55c6c02d4a2e 0x55c6c026788a 0x55c6c02d6719 0x55c6c02d4a2e 0x55c6c026788a 0x55c6c02d58f6 0x55c6c02677aa 0x55c6c02d5b4f 0x55c6c02d4a2e\n",
            "\u001b[K     |█████████████████████████▎      | 1691.1 MB 1.4 MB/s eta 0:05:28tcmalloc: large alloc 2241208320 bytes == 0x55c6c3bba000 @  0x7f5d14fff615 0x55c6c026317c 0x55c6c034347a 0x55c6c0265f9d 0x55c6c0357d4d 0x55c6c02d9ec8 0x55c6c02d4a2e 0x55c6c026788a 0x55c6c02d9d30 0x55c6c02d4a2e 0x55c6c026788a 0x55c6c02d6719 0x55c6c0358b76 0x55c6c02d5d95 0x55c6c0358b76 0x55c6c02d5d95 0x55c6c0358b76 0x55c6c02d5d95 0x55c6c0267ce9 0x55c6c02ab579 0x55c6c0266902 0x55c6c02d9c4d 0x55c6c02d4a2e 0x55c6c026788a 0x55c6c02d6719 0x55c6c02d4a2e 0x55c6c026788a 0x55c6c02d58f6 0x55c6c02677aa 0x55c6c02d5b4f 0x55c6c02d4a2e\n",
            "\u001b[K     |████████████████████████████████| 2137.6 MB 1.2 MB/s eta 0:00:01tcmalloc: large alloc 2137645056 bytes == 0x55c74951c000 @  0x7f5d14ffe1e7 0x55c6c0299407 0x55c6c026317c 0x55c6c034347a 0x55c6c0265f9d 0x55c6c0357d4d 0x55c6c02d9ec8 0x55c6c02d4a2e 0x55c6c026788a 0x55c6c02d5b4f 0x55c6c02d4a2e 0x55c6c026788a 0x55c6c02d5b4f 0x55c6c02d4a2e 0x55c6c026788a 0x55c6c02d5b4f 0x55c6c02d4a2e 0x55c6c026788a 0x55c6c02d5b4f 0x55c6c02d4a2e 0x55c6c026788a 0x55c6c02d5b4f 0x55c6c02677aa 0x55c6c02d5b4f 0x55c6c02d4a2e 0x55c6c026788a 0x55c6c02d6719 0x55c6c02d4a2e 0x55c6c026788a 0x55c6c02d6719 0x55c6c02d4a2e\n",
            "tcmalloc: large alloc 2672058368 bytes == 0x55c7c8bba000 @  0x7f5d14fff615 0x55c6c026317c 0x55c6c034347a 0x55c6c0265f9d 0x55c6c0357d4d 0x55c6c02d9ec8 0x55c6c02d4a2e 0x55c6c026788a 0x55c6c02d5b4f 0x55c6c02d4a2e 0x55c6c026788a 0x55c6c02d5b4f 0x55c6c02d4a2e 0x55c6c026788a 0x55c6c02d5b4f 0x55c6c02d4a2e 0x55c6c026788a 0x55c6c02d5b4f 0x55c6c02d4a2e 0x55c6c026788a 0x55c6c02d5b4f 0x55c6c02677aa 0x55c6c02d5b4f 0x55c6c02d4a2e 0x55c6c026788a 0x55c6c02d6719 0x55c6c02d4a2e 0x55c6c026788a 0x55c6c02d6719 0x55c6c02d4a2e 0x55c6c0267f21\n",
            "\u001b[K     |████████████████████████████████| 2137.6 MB 399 bytes/s \n",
            "\u001b[?25hRequirement already satisfied: typing-extensions in /usr/local/lib/python3.7/dist-packages (from torch==1.10.0+cu111) (3.10.0.2)\n",
            "Installing collected packages: torch\n",
            "  Attempting uninstall: torch\n",
            "    Found existing installation: torch 1.6.0\n",
            "    Uninstalling torch-1.6.0:\n",
            "      Successfully uninstalled torch-1.6.0\n",
            "\u001b[31mERROR: pip's dependency resolver does not currently take into account all the packages that are installed. This behaviour is the source of the following dependency conflicts.\n",
            "tfkit 0.7.21 requires transformers>=3.3.0, but you have transformers 3.0.2 which is incompatible.\n",
            "nlp2go 0.4.12 requires transformers>=3.3.0, but you have transformers 3.0.2 which is incompatible.\n",
            "answerquest 1.0.0 requires torch==1.6.0, but you have torch 1.10.0+cu111 which is incompatible.\u001b[0m\n",
            "Successfully installed torch-1.10.0+cu111\n"
          ]
        }
      ],
      "source": [
        "!pip install tfkit==0.7.21 nlp2go==0.4.12\n",
        "!pip install git+https://github.com/roemmele/answerquest.git\n",
        "!pip install torch==1.10.0+cu111 -f https://download.pytorch.org/whl/cu111/torch_stable.html"
      ]
    },
    {
      "cell_type": "code",
      "source": [
        "# import answerquest \n",
        "from answerquest import QnAPipeline\n",
        "import nlp2go"
      ],
      "metadata": {
        "colab": {
          "base_uri": "https://localhost:8080/"
        },
        "id": "4qgvkXFSP7Mc",
        "outputId": "3924cf82-894f-4351-d48a-a80cb731ceee"
      },
      "execution_count": null,
      "outputs": [
        {
          "output_type": "stream",
          "name": "stderr",
          "text": [
            "[nltk_data] Downloading package punkt to /root/nltk_data...\n",
            "[nltk_data]   Unzipping tokenizers/punkt.zip.\n"
          ]
        }
      ]
    },
    {
      "cell_type": "code",
      "source": [
        "def initialise(qg_tokenizer_path, qg_model_path, qa_model_path, BDG_model_path ):\n",
        "  qna_pipeline = QnAPipeline(\n",
        "    qg_tokenizer_path=qg_tokenizer_path,\n",
        "    qg_model_path=qg_model_path,\n",
        "    qa_model_path=qa_model_path\n",
        "    # qg_tokenizer_path=\"qg_augmented_model/gpt2_tokenizer_vocab/\",\n",
        "    # qg_model_path=\"qg_augmented_model/qg_augmented_model.pt\",\n",
        "    # qa_model_path=\"doc_qa_model/checkpoint-59499/\"\n",
        "  )\n",
        "\n",
        "  bdg_pm_model = nlp2go.Model(BDG_model_path)\n",
        "  # bdg_pm_model = nlp2go.Model('./BDG_PM.pt')\n",
        "\n",
        "  return qna_pipeline, bdg_pm_model"
      ],
      "metadata": {
        "id": "Y4ZjOo1mYE5G"
      },
      "execution_count": null,
      "outputs": []
    },
    {
      "cell_type": "code",
      "source": [
        "qna_pipeline, bdg_pm_model = initialise(\"/content/drive/MyDrive/Sem2/IR/project/qg_augmented_model/gpt2_tokenizer_vocab/\", \"/content/drive/MyDrive/Sem2/IR/project/qg_augmented_model/qg_augmented_model.pt\", \"/content/drive/MyDrive/Sem2/IR/project/checkpoint-59499/\", '/content/drive/MyDrive/Sem2/IR/project/BDG_PM.pt')"
      ],
      "metadata": {
        "colab": {
          "base_uri": "https://localhost:8080/"
        },
        "id": "bAKdTZvOZ8NN",
        "outputId": "f60be30d-932c-4d32-da90-29935cd62cd3"
      },
      "execution_count": null,
      "outputs": [
        {
          "output_type": "stream",
          "name": "stdout",
          "text": [
            "===model info===\n",
            "model_config bert-base-cased\n",
            "tags ['onebyone-pos_0']\n",
            "type ['onebyone-pos']\n",
            "maxlen 512\n",
            "epoch 6\n",
            "===============\n",
            "loading saved model\n",
            "Using device: cpu\n",
            "finish loading\n",
            "loaded model predict_parameter {}\n"
          ]
        }
      ]
    },
    {
      "cell_type": "code",
      "source": [
        "def func(input_text):\n",
        "  \n",
        "  (sent_idxs,questions,answers) = qna_pipeline.generate_qna_items(\n",
        "      input_text,\n",
        "      filter_duplicate_answers=True,\n",
        "      filter_redundant=True,\n",
        "      sort_by_sent_order=True)\n",
        "\n",
        "  # sent_idxs, questions, answers\n",
        "  distractors = []\n",
        "\n",
        "  result = []\n",
        "\n",
        "  for a,b,c in zip(sent_idxs, questions, answers):\n",
        "\n",
        "    print(a)\n",
        "\n",
        "    strI = input_text + \" [SEP] \" + b + \" [SEP] \" + c\n",
        "    input_json = {\n",
        "      \"input\": strI\n",
        "    }\n",
        "\n",
        "    x=bdg_pm_model.predict(input_json)\n",
        "    new_entry = dict()\n",
        "    new_entry['question']=b\n",
        "    new_entry['line_no']=a\n",
        "    new_entry['ans']=c\n",
        "    new_entry['distractor']=x['result'][0]\n",
        "    result.append(new_entry)\n",
        "\n",
        "  return result\n",
        "  # return sent_idxs, questions, answers, distractors"
      ],
      "metadata": {
        "id": "7Nc9k8DxP-jN"
      },
      "execution_count": null,
      "outputs": []
    },
    {
      "cell_type": "code",
      "source": [
        "result = func(\"Mike and Morris lived in the same village. While Morris owned the largest jewelry shop in the village, Mike was a poor farmer. Both had large families with many sons, daughters-in-law and grandchildren.\")\n",
        "result"
      ],
      "metadata": {
        "colab": {
          "base_uri": "https://localhost:8080/"
        },
        "id": "IviX4axabyEz",
        "outputId": "c52ff3a4-6003-4d62-9d2c-19c51a195425"
      },
      "execution_count": null,
      "outputs": [
        {
          "output_type": "stream",
          "name": "stdout",
          "text": [
            "PRED AVG SCORE: -0.7155, PRED PPL: 2.0453\n",
            "0\n",
            "1\n",
            "1\n",
            "2\n"
          ]
        },
        {
          "output_type": "execute_result",
          "data": {
            "text/plain": [
              "[{'ans': 'the same village',\n",
              "  'distractor': 'the same village',\n",
              "  'line_no': 0,\n",
              "  'question': 'Where did Mike and Morris live?'},\n",
              " {'ans': 'Mike',\n",
              "  'distractor': 'Jack and His wife',\n",
              "  'line_no': 1,\n",
              "  'question': 'Who was a poor farmer?'},\n",
              " {'ans': 'Mike and Morris',\n",
              "  'distractor': 'Both and his wife',\n",
              "  'line_no': 1,\n",
              "  'question': 'Who owned the largest jewelry shop in the village?'},\n",
              " {'ans': 'sons, daughters-in-law and grandchildren',\n",
              "  'distractor': 'Mike and daughter and daughter',\n",
              "  'line_no': 2,\n",
              "  'question': 'Who were the large families with?'}]"
            ]
          },
          "metadata": {},
          "execution_count": 9
        }
      ]
    },
    {
      "cell_type": "code",
      "source": [
        "# input_text = r\"ONE DOLLAR AND EIGHTY-SEVEN CENTS. That was all. And sixty cents of it was in pennies. Pennies saved one and two at a time by bulldozing the grocer and the vegetable man and the butcher until one's cheek burned with the silent imputation of parsimony that such close dealing implied. Three times Della counted it. One dollar and eighty-seven cents. And the next day would be Christmas. There was clearly nothing left to do but flop down on the shabby little couch and howl. So Della did it. Which instigates the moral reflection that life is made up of sobs, sniffles, and smiles, with sniffles predominating. While the mistress of the home is gradually subsiding from the first stage to the second, take a look at the home. A furnished flat at $8 per week. It did not exactly beggar description, but it certainly had that word on the look-out for the mendicancy squad. In the vestibule below was a letter-box into which no letter would go, and an electric button from which no mortal finger could coax a ring. Also appertaining thereunto was a card bearing the name 'Mr. James Dillingham Young.' The 'Dillingham' had been flung to the breeze during a former period of prosperity when its possessor was being paid $30 per week. Now, when the income was shrunk to $20, the letters of 'Dillingham' looked blurred, as though they were thinking seriously of contracting to a modest and unassuming D. But whenever Mr. James Dillingham Young came home and reached his flat above he was called 'Jim' and greatly hugged by Mrs. James Dillingham Young, already introduced to you as Della. Which is all very good. Delia finished her cry and attended to her cheeks with the powder rag. She stood by the window and looked out dully at a grey cat walking a grey fence in a grey backyard. To-morrow would be Christmas Day, and she had only $1.87 with which to buy Jim a present. She had been saving every penny she could formonths, with this result. Twenty dollars a week doesn't go far. Expenses had been greater than she had calculated. They always are. Only $1.87 to buy a present for Jim. Her Jim. Many a happy hour she had spent planning for something nice for him. Something fine and rare and sterling - something just a little bit near to being worthy of the honour of being owned by Jim. There was a pier-glass between the windows of the room. Perhaps you have seen a pier-glass in an $8 flat. A very thin and very agile person may, by observing his reflection in a rapid sequence of longitudinal strips, obtain a fairly accurate conception of his looks. Della, being slender, had mastered the art. Suddenly she whirled from the window and stood before the glass. Her eyes were shining brilliantly, but her face had lost its colour within twenty seconds. Rapidly she pulled down her hair and let it fall to its full length. Now, there were two possessions of the James Dillingham Youngs in which they both took a mighty pride. One was Jim's gold watch that had been his father's and his grandfather's. The other was Della's hair. Had the Queen of Sheba lived in the flat across the airshaft, Della would have let her hair hang out the window some day to dry just to depreciate Her Majesty's jewels and gifts. Had King Solomon been the janitor, with all his treasures piled up in the basement, Jim would have pulled out his watch every time he passed, just to see him pluck at his beard from envy. So now Della's beautiful hair fell about her, rippling and shining like a cascade of brown waters. It reached below her knee and made itself almost a garment for her. And then she did it up again nervously and quickly. Once she faltered for a minute and stood still while a tear or two splashed on the worn red carpet. On went her old brown jacket; on went her old brown hat. With a whirl of skirts and with the brilliant sparkle still in her eyes, she fluttered out of the door and down the stairs to the street. Where she stopped the sign read: 'Mme. Sofronie. Hair Goods of All Kinds.' One flight up Della ran, and collected herself, panting. Madame, large, too white, chilly, hardly looked the 'Sofronie.' 'Will you buy my hair?' asked Della. 'I buy hair,' said Madame. 'Take yer hat off and let's have a sight at the looks of it.' Down rippled the brown cascade. 'Twenty dollars,' said Madame, lifting the mass with a practised hand.\"\n",
        "# input_text = \"Since these maintenance processes are needed to prevent damage and break-down, energy is needed for them. This energy comes from outside the body of the individual organism. So there must be a process to transfer a source of energy from outside the body of the organism, which we call food, to the inside, a process we commonly call nutrition. If the body size of the organisms is to grow, additional raw material will also be needed from outside. Since life on earth depends on carbonbased molecules, most of these food sources are also carbon-based. Depending on the complexity of these carbon sources, different organisms can then use different kinds of nutritional processes\"\n",
        "# input_text = \"When you ' re having a holiday , one of the main questions to ask is which hotel or apartment to choose . However , when it comes to France , you have another special choice : treehouses . In France , treehouses are offered to travelers as a new choice in many places . The price may be a little higher , but you do have a chance to _ your childhood memories . Alain Laurens , one of France ' s top treehouse designers , said , \\\" Most of the people might have the experience of building a den when they were young . And they like that feeling of freedom when they are children . \\\" Its fairy - tale style gives travelers a special feeling . It seems as if they are living as a forest king and enjoying the fresh air in the morning . Another kind of treehouse is the \\\" star cube \\\" . It gives travelers the chance of looking at the stars shining in the sky when they are going to sleep . Each \\\" star cube \\\" not only offers all the comfortable things that a hotel provides for travelers , but also gives them a chance to look for stars by using a telescope . The glass roof allows you to look at the stars from your bed .\""
      ],
      "metadata": {
        "id": "GyO2awKvWYbH"
      },
      "execution_count": null,
      "outputs": []
    },
    {
      "cell_type": "code",
      "source": [
        ""
      ],
      "metadata": {
        "id": "eQRKIRd-WcPJ"
      },
      "execution_count": null,
      "outputs": []
    }
  ]
}